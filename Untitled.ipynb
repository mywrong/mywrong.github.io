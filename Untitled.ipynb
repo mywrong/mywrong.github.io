{
 "cells": [
  {
   "cell_type": "markdown",
   "id": "a3e4aa3f-0c62-4d63-a7ea-a430203b68f3",
   "metadata": {},
   "source": [
    "# Step1\n",
    "\n",
    "这是一份示例"
   ]
  },
  {
   "cell_type": "code",
   "execution_count": 2,
   "id": "47fda698-6e34-4829-bc63-4a5e57a58388",
   "metadata": {},
   "outputs": [
    {
     "name": "stdout",
     "output_type": "stream",
     "text": [
      "helloaddqwedjhjweijnfjoijreoifjoijfilouqnfiluqhnelfoiuchjqneo;iwjcopiqejwcoipnqopiuhdoijqwiodpjoipewncioupqjefoijqeoipjdoipjdoipwnqudijhoe;iwncoiejwhdoijoiewpjdoiqpewnhfciuhqiuohciuqe\n"
     ]
    }
   ],
   "source": [
    "print(\"helloaddqwedjhjweijnfjoijreoifjoijfilouqnfiluqhnelfoiuchjqneo;iwjcopiqejwcoipnqopiuhdoijqwiodpjoipewncioupqjefoijqeoipjdoipjdoipwnqudijhoe;iwncoiejwhdoijoiewpjdoiqpewnhfciuhqiuohciuqe\")"
   ]
  }
 ],
 "metadata": {
  "kernelspec": {
   "display_name": "ai",
   "language": "python",
   "name": "ai"
  },
  "language_info": {
   "codemirror_mode": {
    "name": "ipython",
    "version": 3
   },
   "file_extension": ".py",
   "mimetype": "text/x-python",
   "name": "python",
   "nbconvert_exporter": "python",
   "pygments_lexer": "ipython3",
   "version": "3.10.12"
  }
 },
 "nbformat": 4,
 "nbformat_minor": 5
}
